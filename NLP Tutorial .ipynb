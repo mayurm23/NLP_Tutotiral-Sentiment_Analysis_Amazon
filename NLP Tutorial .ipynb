{
 "cells": [
  {
   "cell_type": "markdown",
   "metadata": {},
   "source": [
    "## Natural Language Processing\n",
    "\n",
    "I start off with explaning few basic NLP tasks and Regular Expressions (RegEx) and then move onto writing structed programs like sentiment analysis and other. "
   ]
  },
  {
   "cell_type": "code",
   "execution_count": 15,
   "metadata": {},
   "outputs": [],
   "source": [
    "import nltk\n",
    "#nltk.download()\n",
    "# from NLTK's book module, load all items.\n",
    "from nltk.book import *"
   ]
  },
  {
   "cell_type": "markdown",
   "metadata": {},
   "source": [
    "## Basic NLP Tasks with NLTK"
   ]
  },
  {
   "cell_type": "code",
   "execution_count": 16,
   "metadata": {},
   "outputs": [
    {
     "name": "stdout",
     "output_type": "stream",
     "text": [
      "Displaying 11 of 11 matches:\n",
      "ong the former , one was of a most monstrous size . ... This came towards us , \n",
      "ON OF THE PSALMS . \" Touching that monstrous bulk of the whale or ork we have r\n",
      "ll over with a heathenish array of monstrous clubs and spears . Some were thick\n",
      "d as you gazed , and wondered what monstrous cannibal and savage could ever hav\n",
      "that has survived the flood ; most monstrous and most mountainous ! That Himmal\n",
      "they might scout at Moby Dick as a monstrous fable , or still worse and more de\n",
      "th of Radney .'\" CHAPTER 55 Of the Monstrous Pictures of Whales . I shall ere l\n",
      "ing Scenes . In connexion with the monstrous pictures of whales , I am strongly\n",
      "ere to enter upon those still more monstrous stories of them which are to be fo\n",
      "ght have been rummaged out of this monstrous cabinet there is no telling . But \n",
      "of Whale - Bones ; for Whales of a monstrous size are oftentimes cast up dead u\n"
     ]
    }
   ],
   "source": [
    "text7\n",
    "# A concordance view shows us every occurrence of a given word, together with some context.\n",
    "text1.concordance(\"monstrous\") "
   ]
  },
  {
   "cell_type": "code",
   "execution_count": 17,
   "metadata": {},
   "outputs": [
    {
     "name": "stdout",
     "output_type": "stream",
     "text": [
      "true contemptible christian abundant few part mean careful puzzled\n",
      "mystifying passing curious loving wise doleful gamesome singular\n",
      "delightfully perilous fearless\n"
     ]
    }
   ],
   "source": [
    "sent7\n",
    "# other words appear in a similar range of context can be searched \n",
    "# by appending the term similar to the name of the text in question\n",
    "text1.similar(\"monstrous\")"
   ]
  },
  {
   "cell_type": "code",
   "execution_count": 18,
   "metadata": {},
   "outputs": [
    {
     "name": "stdout",
     "output_type": "stream",
     "text": [
      "a_pretty am_glad a_lucky is_pretty be_glad\n"
     ]
    }
   ],
   "source": [
    "text2.common_contexts([\"monstrous\", \"very\"])"
   ]
  },
  {
   "cell_type": "code",
   "execution_count": 19,
   "metadata": {},
   "outputs": [
    {
     "data": {
      "image/png": "[encoded data removed]",
      "text/plain": [
       "<matplotlib.figure.Figure at 0x15bf00540f0>"
      ]
     },
     "metadata": {},
     "output_type": "display_data"
    }
   ],
   "source": [
    "# Dispersion Plot: Each stripe represents an instance of a word, and each row represents the entire text.\n",
    "text4.dispersion_plot([\"citizens\", \"democracy\", \"freedom\", \"duties\", \"America\",'liberty'])"
   ]
  },
  {
   "cell_type": "code",
   "execution_count": 20,
   "metadata": {},
   "outputs": [
    {
     "data": {
      "text/plain": [
       "18"
      ]
     },
     "execution_count": 20,
     "metadata": {},
     "output_type": "execute_result"
    }
   ],
   "source": [
    "len(sent7)"
   ]
  },
  {
   "cell_type": "code",
   "execution_count": 21,
   "metadata": {},
   "outputs": [
    {
     "data": {
      "text/plain": [
       "100676"
      ]
     },
     "execution_count": 21,
     "metadata": {},
     "output_type": "execute_result"
    }
   ],
   "source": [
    "len(text7)\n",
    "#  A token is the technical name for a sequence of characters. Thus, text 7 has 100676 tokens. "
   ]
  },
  {
   "cell_type": "code",
   "execution_count": 22,
   "metadata": {},
   "outputs": [
    {
     "data": {
      "text/plain": [
       "{'wotteth',\n",
       " 'labour',\n",
       " 'young',\n",
       " 'Naphtuhim',\n",
       " 'pleasure',\n",
       " 'business',\n",
       " 'protest',\n",
       " 'ravin',\n",
       " 'pleasant',\n",
       " 'Elah',\n",
       " 'gave',\n",
       " 'wells',\n",
       " 'An',\n",
       " 'Happy',\n",
       " 'lie',\n",
       " 'ascending',\n",
       " 'appe',\n",
       " 'cities',\n",
       " 'commune',\n",
       " 'Give',\n",
       " 'eatest',\n",
       " 'Asher',\n",
       " 'prophet',\n",
       " 'rul',\n",
       " 'Bilhah',\n",
       " 'mou',\n",
       " 'wounding',\n",
       " 'troubled',\n",
       " 'Uzal',\n",
       " 'fountain',\n",
       " 'bury',\n",
       " 'shew',\n",
       " 'changes',\n",
       " 'born',\n",
       " 'strove',\n",
       " 'Jezer',\n",
       " 'clo',\n",
       " 'communing',\n",
       " 'portion',\n",
       " 'Akan',\n",
       " 'Moab',\n",
       " 'received',\n",
       " 'trees',\n",
       " 'pluckt',\n",
       " 'cause',\n",
       " 'Take',\n",
       " 'child',\n",
       " 'heifer',\n",
       " 'Muppim',\n",
       " 'haste',\n",
       " 'appear',\n",
       " 'mischief',\n",
       " 'tr',\n",
       " 'establish',\n",
       " 'buryingplace',\n",
       " 'proved',\n",
       " 'longedst',\n",
       " 'hide',\n",
       " 'finished',\n",
       " 'saying',\n",
       " 'Havilah',\n",
       " 'savour',\n",
       " 'lands',\n",
       " 'drought',\n",
       " 'sadly',\n",
       " 'yielded',\n",
       " 'Zebulun',\n",
       " 'known',\n",
       " 'eyed',\n",
       " 'Bethlehem',\n",
       " 'Haste',\n",
       " 'Sinite',\n",
       " 'Drink',\n",
       " 'Sojourn',\n",
       " 'Thou',\n",
       " 'Serug',\n",
       " 'freely',\n",
       " 'anger',\n",
       " 'Male',\n",
       " 'thither',\n",
       " 'elders',\n",
       " 'archer',\n",
       " 'little',\n",
       " 'trade',\n",
       " 'spent',\n",
       " 'run',\n",
       " 'tower',\n",
       " 'Hebron',\n",
       " 'Almodad',\n",
       " 'How',\n",
       " 'Shelah',\n",
       " 'then',\n",
       " 'office',\n",
       " 'co',\n",
       " 'Hamul',\n",
       " 'Jabbok',\n",
       " 'yea',\n",
       " 'before',\n",
       " 'your',\n",
       " 'peaceably',\n",
       " 'loss',\n",
       " 'for',\n",
       " 'households',\n",
       " 'To',\n",
       " 'Cause',\n",
       " 'visions',\n",
       " 'grew',\n",
       " 'Erech',\n",
       " 'feebler',\n",
       " 'goods',\n",
       " 'loud',\n",
       " 'beget',\n",
       " 'twenty',\n",
       " 'head',\n",
       " 'la',\n",
       " 'abide',\n",
       " 'Philistim',\n",
       " 'hills',\n",
       " 'halted',\n",
       " 'Eliphaz',\n",
       " 'have',\n",
       " 'Zibeon',\n",
       " 'an',\n",
       " 'overcome',\n",
       " 'dark',\n",
       " 'poured',\n",
       " 'unleavened',\n",
       " 'welfare',\n",
       " 'Jegarsahadutha',\n",
       " 'dignity',\n",
       " 'Zillah',\n",
       " 'mine',\n",
       " 'stronger',\n",
       " 'drunken',\n",
       " 'decreased',\n",
       " 'Sabtech',\n",
       " 'dew',\n",
       " 'messenger',\n",
       " 'Aholibamah',\n",
       " 'arose',\n",
       " 'Girgashites',\n",
       " 'binding',\n",
       " 'brimstone',\n",
       " 'deceived',\n",
       " 'Midian',\n",
       " 'Cana',\n",
       " 'bank',\n",
       " 'pleaseth',\n",
       " 'Thorns',\n",
       " 'Zohar',\n",
       " 'afar',\n",
       " 'doubt',\n",
       " 'Jobab',\n",
       " 'returned',\n",
       " 'bre',\n",
       " 'presented',\n",
       " 'repented',\n",
       " 'denied',\n",
       " 'multiply',\n",
       " 'famine',\n",
       " 'Euphrat',\n",
       " 'greater',\n",
       " 'tak',\n",
       " 'Aner',\n",
       " 'They',\n",
       " 'servant',\n",
       " 'raise',\n",
       " 'named',\n",
       " 'wearied',\n",
       " 'lingered',\n",
       " 'upon',\n",
       " 'drinking',\n",
       " 'leap',\n",
       " 'tents',\n",
       " 'Egyptian',\n",
       " 'Alvan',\n",
       " 'Succoth',\n",
       " 'riches',\n",
       " 'comfort',\n",
       " 'butter',\n",
       " 'nor',\n",
       " 'Huz',\n",
       " 'Judah',\n",
       " 'Dumah',\n",
       " 'upright',\n",
       " 'hairs',\n",
       " 'Ask',\n",
       " 'Judith',\n",
       " 'fury',\n",
       " 'nine',\n",
       " 'daughers',\n",
       " 'walketh',\n",
       " 'Zidon',\n",
       " 'Gatam',\n",
       " 'even',\n",
       " 'Canaanitish',\n",
       " 'man',\n",
       " 'pray',\n",
       " 'Horite',\n",
       " 'Salah',\n",
       " 'past',\n",
       " 'she',\n",
       " 'reason',\n",
       " 'beari',\n",
       " 'seedtime',\n",
       " 'ripe',\n",
       " 'Babel',\n",
       " 'prince',\n",
       " 'Mamre',\n",
       " 'rolled',\n",
       " 'Bered',\n",
       " 'fearest',\n",
       " 'country',\n",
       " 'moving',\n",
       " 'han',\n",
       " 'kine',\n",
       " 'blameless',\n",
       " 'prayed',\n",
       " 'healed',\n",
       " 'rain',\n",
       " 'selfsame',\n",
       " 'certain',\n",
       " 'caused',\n",
       " 'imagination',\n",
       " 'Lot',\n",
       " 'eaten',\n",
       " 'Heber',\n",
       " 'lack',\n",
       " 'rider',\n",
       " 'northward',\n",
       " 'priest',\n",
       " 'Hai',\n",
       " 'grap',\n",
       " 'him',\n",
       " 'smell',\n",
       " 'blessing',\n",
       " 'mourning',\n",
       " 'mules',\n",
       " 'hire',\n",
       " 'her',\n",
       " 'venison',\n",
       " 'fai',\n",
       " 'fly',\n",
       " 'gat',\n",
       " 'day',\n",
       " 'dwe',\n",
       " 'word',\n",
       " 'dale',\n",
       " 'When',\n",
       " 'O',\n",
       " 'kindness',\n",
       " 'Pharez',\n",
       " 'inheritance',\n",
       " 'cursed',\n",
       " 'hil',\n",
       " 'spilled',\n",
       " 'droves',\n",
       " 'marriages',\n",
       " 'herd',\n",
       " 'age',\n",
       " 'hundredth',\n",
       " 'Jetheth',\n",
       " 'grisled',\n",
       " 'perceived',\n",
       " 'faults',\n",
       " 'evil',\n",
       " 'All',\n",
       " 'placed',\n",
       " 'creepeth',\n",
       " 'gifts',\n",
       " 'ne',\n",
       " 'salt',\n",
       " 'none',\n",
       " 'Perizzite',\n",
       " 'whose',\n",
       " 'if',\n",
       " 'Nod',\n",
       " 'daught',\n",
       " 'tenor',\n",
       " 'Of',\n",
       " 'tent',\n",
       " 'God',\n",
       " 'charge',\n",
       " 'manner',\n",
       " 'beneath',\n",
       " 'Terah',\n",
       " 'Nebajoth',\n",
       " 'Ephah',\n",
       " 'dipped',\n",
       " 'birthday',\n",
       " 'Ehi',\n",
       " 'heed',\n",
       " 'sister',\n",
       " 'whereon',\n",
       " 'love',\n",
       " 'Nimrod',\n",
       " 'Get',\n",
       " 'ask',\n",
       " 'seven',\n",
       " 'Cush',\n",
       " 'chode',\n",
       " 'season',\n",
       " 'Eno',\n",
       " 'basket',\n",
       " 'turtledove',\n",
       " 'horse',\n",
       " 'Kedemah',\n",
       " 'stars',\n",
       " 'behold',\n",
       " 'circumcised',\n",
       " 'doe',\n",
       " 'shortly',\n",
       " 'Shur',\n",
       " 'Leah',\n",
       " 'Mahanaim',\n",
       " 'bow',\n",
       " 'rebuked',\n",
       " 'least',\n",
       " 'meeteth',\n",
       " 'purchase',\n",
       " 'daughter',\n",
       " 'years',\n",
       " 'laid',\n",
       " 'visit',\n",
       " 'Ziphion',\n",
       " 'Fifteen',\n",
       " 'Hear',\n",
       " 'mention',\n",
       " 'increased',\n",
       " 'birds',\n",
       " 'posterity',\n",
       " 'Jerah',\n",
       " 'Adah',\n",
       " 'Only',\n",
       " 'circumcise',\n",
       " 'charged',\n",
       " 'poor',\n",
       " 'conceive',\n",
       " 'excel',\n",
       " 'took',\n",
       " 'espied',\n",
       " 'good',\n",
       " 'earth',\n",
       " 'mayest',\n",
       " 'Feed',\n",
       " 'eat',\n",
       " 'ungirded',\n",
       " 'interpreted',\n",
       " 'kneel',\n",
       " 'Areli',\n",
       " 'fetched',\n",
       " 'solemnly',\n",
       " 'saddled',\n",
       " 'forgat',\n",
       " 'seeing',\n",
       " 'flo',\n",
       " 'escape',\n",
       " 'compassed',\n",
       " 'himself',\n",
       " 'husbandman',\n",
       " 'Out',\n",
       " 'told',\n",
       " 'way',\n",
       " 'whole',\n",
       " 'seed',\n",
       " 'continued',\n",
       " 'Except',\n",
       " 'forth',\n",
       " 'sight',\n",
       " 'despised',\n",
       " 'looked',\n",
       " 'widowhood',\n",
       " 'be',\n",
       " 'learned',\n",
       " 'asses',\n",
       " 'down',\n",
       " 'wolf',\n",
       " 'sacks',\n",
       " 'themselv',\n",
       " 'Abel',\n",
       " 'His',\n",
       " 'his',\n",
       " 'gard',\n",
       " 'stood',\n",
       " 'Reuel',\n",
       " 'Two',\n",
       " ';)',\n",
       " 'feeding',\n",
       " 'Jemuel',\n",
       " 'chi',\n",
       " 'offended',\n",
       " 'On',\n",
       " 'he',\n",
       " 'pilled',\n",
       " 'Salem',\n",
       " 'stone',\n",
       " 'bowed',\n",
       " 'Enos',\n",
       " 'fill',\n",
       " 'rose',\n",
       " 'Raamah',\n",
       " 'Speak',\n",
       " 'Mibzar',\n",
       " 'children',\n",
       " 'Whence',\n",
       " 'names',\n",
       " 'Both',\n",
       " 'deliverance',\n",
       " 'destroyed',\n",
       " 'amongst',\n",
       " 'shoelatchet',\n",
       " 'cry',\n",
       " 'Korah',\n",
       " 'indeed',\n",
       " 'garments',\n",
       " 'void',\n",
       " 'east',\n",
       " 'obeisance',\n",
       " 'guiding',\n",
       " 'rooms',\n",
       " 'cubit',\n",
       " 'henceforth',\n",
       " 'barren',\n",
       " 'Cursed',\n",
       " 'Thirty',\n",
       " 'Gera',\n",
       " 'those',\n",
       " 'cubits',\n",
       " 'Ishbak',\n",
       " 'Jordan',\n",
       " 'in',\n",
       " 'descending',\n",
       " 'begin',\n",
       " 'eyes',\n",
       " 'boug',\n",
       " 'He',\n",
       " 'habitations',\n",
       " 'excellency',\n",
       " 'belong',\n",
       " 'five',\n",
       " 'giants',\n",
       " 'Moreh',\n",
       " 'thee',\n",
       " 'reserved',\n",
       " 'Isa',\n",
       " 'Horites',\n",
       " 'else',\n",
       " 'breasts',\n",
       " 'Discern',\n",
       " 'fa',\n",
       " 'answer',\n",
       " 'slimepits',\n",
       " 'breaking',\n",
       " 'stones',\n",
       " 'kn',\n",
       " 'tabret',\n",
       " 'built',\n",
       " 'onyx',\n",
       " 'burning',\n",
       " 'meanest',\n",
       " 'people',\n",
       " 'Unto',\n",
       " 'Zuzims',\n",
       " 'bones',\n",
       " 'surety',\n",
       " 'serva',\n",
       " 'generations',\n",
       " 'reward',\n",
       " 'Shammah',\n",
       " 'younger',\n",
       " 'springing',\n",
       " 'pasture',\n",
       " 'Make',\n",
       " 'buried',\n",
       " 'Judge',\n",
       " 'sweat',\n",
       " 'Not',\n",
       " 'elder',\n",
       " 'subtil',\n",
       " 'furnace',\n",
       " 'slaughter',\n",
       " 'slew',\n",
       " 'edge',\n",
       " 'Kohath',\n",
       " 'fourteenth',\n",
       " 'refused',\n",
       " 'Merari',\n",
       " 'hunter',\n",
       " 'being',\n",
       " 'But',\n",
       " 'Samlah',\n",
       " 'magicians',\n",
       " 'sou',\n",
       " 'wrestlings',\n",
       " 'Reub',\n",
       " 'Padan',\n",
       " 'am',\n",
       " 'money',\n",
       " 'blesseth',\n",
       " 'Iram',\n",
       " 'offering',\n",
       " 'plagued',\n",
       " 'Shinab',\n",
       " 'Togarmah',\n",
       " 'except',\n",
       " 'belly',\n",
       " 'Moriah',\n",
       " 'prepared',\n",
       " 'dealt',\n",
       " 'followed',\n",
       " 'Simeon',\n",
       " 'under',\n",
       " 'Hast',\n",
       " 'Abr',\n",
       " 'shed',\n",
       " 'ten',\n",
       " 'foremost',\n",
       " 'hastened',\n",
       " 'desire',\n",
       " 'lord',\n",
       " 'themselves',\n",
       " 'rams',\n",
       " 'scarlet',\n",
       " 'handmaids',\n",
       " 'Obal',\n",
       " 'Ur',\n",
       " 'Shel',\n",
       " 'floor',\n",
       " 'Shebah',\n",
       " 'displease',\n",
       " 'door',\n",
       " 'rent',\n",
       " 'Gether',\n",
       " 'ea',\n",
       " 'think',\n",
       " 'covering',\n",
       " 'blessings',\n",
       " 'month',\n",
       " 'plant',\n",
       " 'men',\n",
       " 'food',\n",
       " 'oath',\n",
       " 'Rosh',\n",
       " 'Heaven',\n",
       " 'firstborn',\n",
       " 'Leummim',\n",
       " 'wild',\n",
       " 'caught',\n",
       " 'Laban',\n",
       " 'cru',\n",
       " 'eighty',\n",
       " 'destroy',\n",
       " 'judgment',\n",
       " 'thousand',\n",
       " 'choice',\n",
       " 'fail',\n",
       " 'behind',\n",
       " 'LO',\n",
       " '.)',\n",
       " 'measures',\n",
       " 'light',\n",
       " 'Lehabim',\n",
       " 'linen',\n",
       " 'Elbethel',\n",
       " 'prosperous',\n",
       " 'Husham',\n",
       " 'reach',\n",
       " 'togeth',\n",
       " 'truly',\n",
       " 'jud',\n",
       " 'Shem',\n",
       " 'Go',\n",
       " 'about',\n",
       " 'commandment',\n",
       " 'With',\n",
       " 'gavest',\n",
       " 'imagined',\n",
       " 'hor',\n",
       " 'cometh',\n",
       " 'afterwards',\n",
       " 'comi',\n",
       " 'messengers',\n",
       " 'sto',\n",
       " 'obey',\n",
       " 'chief',\n",
       " 'Milcah',\n",
       " 'knowest',\n",
       " 'Should',\n",
       " 'Euphrates',\n",
       " 'bake',\n",
       " 'angry',\n",
       " 'two',\n",
       " 'fallen',\n",
       " 'overtake',\n",
       " 'handmaid',\n",
       " 'gathered',\n",
       " 'olive',\n",
       " 'able',\n",
       " 'lawgiver',\n",
       " 'cool',\n",
       " 'brother',\n",
       " 'heaven',\n",
       " 'kill',\n",
       " 'Abram',\n",
       " 'wash',\n",
       " 'appointed',\n",
       " 'ruler',\n",
       " 'drink',\n",
       " 'seventy',\n",
       " 'feet',\n",
       " 'bless',\n",
       " 'quiver',\n",
       " 'sle',\n",
       " 'heads',\n",
       " 'troop',\n",
       " 'experience',\n",
       " 'kid',\n",
       " 'displeased',\n",
       " 'vagabond',\n",
       " 'very',\n",
       " 'lieth',\n",
       " 'unto',\n",
       " 'therefore',\n",
       " 'old',\n",
       " 'besides',\n",
       " 'rained',\n",
       " 'beasts',\n",
       " 'speed',\n",
       " 'regard',\n",
       " 'blessed',\n",
       " 'having',\n",
       " 'straw',\n",
       " 'must',\n",
       " '!',\n",
       " 'height',\n",
       " 'so',\n",
       " 'Resen',\n",
       " 'mocked',\n",
       " 'wo',\n",
       " 'peaceable',\n",
       " 'kinds',\n",
       " 'erected',\n",
       " 'whereof',\n",
       " 'out',\n",
       " 'Tidal',\n",
       " 'Ephra',\n",
       " 'talking',\n",
       " 'altogether',\n",
       " 'itself',\n",
       " 'cattle',\n",
       " 'rode',\n",
       " '?',\n",
       " 'Deliver',\n",
       " 'merciful',\n",
       " 'who',\n",
       " 'sporting',\n",
       " 'Kadmonites',\n",
       " 'full',\n",
       " 'victuals',\n",
       " 'iniquity',\n",
       " 'weig',\n",
       " 'yearn',\n",
       " 'guiltiness',\n",
       " 'shore',\n",
       " 'Perizzit',\n",
       " 'womenservan',\n",
       " 'boldly',\n",
       " 'Art',\n",
       " 'drove',\n",
       " 'Pau',\n",
       " 'Hemdan',\n",
       " 'withhold',\n",
       " 'Shiloh',\n",
       " 'tops',\n",
       " 'Ararat',\n",
       " 'winter',\n",
       " 'Zeboim',\n",
       " 'savoury',\n",
       " 'possessions',\n",
       " 'praise',\n",
       " 'milch',\n",
       " 'plenty',\n",
       " 'Benjamin',\n",
       " 'armed',\n",
       " 'weep',\n",
       " 'Bela',\n",
       " 'endued',\n",
       " 'Phuvah',\n",
       " 'worshipped',\n",
       " 'enquire',\n",
       " 'thine',\n",
       " 'grapes',\n",
       " 'corn',\n",
       " 'meat',\n",
       " 'nati',\n",
       " 'Ethiopia',\n",
       " 'Whoso',\n",
       " 'Eliezer',\n",
       " 'heat',\n",
       " 'met',\n",
       " 'Naphtali',\n",
       " 'tongues',\n",
       " 'hith',\n",
       " 'drinketh',\n",
       " 'sac',\n",
       " 'occupation',\n",
       " 'Gomer',\n",
       " 'replenish',\n",
       " 'dwelling',\n",
       " 'grieved',\n",
       " 'fellow',\n",
       " 'now',\n",
       " 'lamp',\n",
       " 'rightly',\n",
       " 'deed',\n",
       " 'enough',\n",
       " 'overseer',\n",
       " 'live',\n",
       " 'eventide',\n",
       " 'seek',\n",
       " 'bad',\n",
       " 'Girgasite',\n",
       " 'ki',\n",
       " 'not',\n",
       " 'art',\n",
       " 'peop',\n",
       " 'tar',\n",
       " 'bak',\n",
       " 'mercies',\n",
       " 'shoulders',\n",
       " 'loved',\n",
       " 'pitcher',\n",
       " 'dust',\n",
       " 'let',\n",
       " 'sewed',\n",
       " 'sakes',\n",
       " 'al',\n",
       " 'whether',\n",
       " 'Potiphar',\n",
       " 'among',\n",
       " 'ghost',\n",
       " 'merchantmen',\n",
       " 'above',\n",
       " 'Rachel',\n",
       " 's',\n",
       " 'traffick',\n",
       " 'dine',\n",
       " 'embalm',\n",
       " 'priests',\n",
       " 'harvest',\n",
       " 'gold',\n",
       " 'fifth',\n",
       " 'Peradventure',\n",
       " 'according',\n",
       " 'too',\n",
       " 'law',\n",
       " 'them',\n",
       " 'bound',\n",
       " 'rise',\n",
       " 'reviv',\n",
       " 'fema',\n",
       " 'windows',\n",
       " 'lifted',\n",
       " 'stay',\n",
       " 'Beerlahairoi',\n",
       " 'Whose',\n",
       " 'fine',\n",
       " 'forgotten',\n",
       " 'bondman',\n",
       " 'suck',\n",
       " 'Teman',\n",
       " 'Jimnah',\n",
       " 'increase',\n",
       " 'Eshban',\n",
       " 'doubled',\n",
       " 'departing',\n",
       " 'divineth',\n",
       " 'stretched',\n",
       " 'Potipherah',\n",
       " 'hired',\n",
       " 'Moabites',\n",
       " 'put',\n",
       " 'Hanoch',\n",
       " 'Egyptia',\n",
       " 'Shuah',\n",
       " 'audience',\n",
       " 'waxen',\n",
       " 'renown',\n",
       " 'Methuselah',\n",
       " 'Lo',\n",
       " 'Amal',\n",
       " 'desolate',\n",
       " 'Uz',\n",
       " 'death',\n",
       " 'virgin',\n",
       " 'sinew',\n",
       " 'Beriah',\n",
       " 'Who',\n",
       " 'sheweth',\n",
       " 'openly',\n",
       " 'citi',\n",
       " 'sackcloth',\n",
       " 'li',\n",
       " 'sweet',\n",
       " 'dressed',\n",
       " 'shoulder',\n",
       " 'Ard',\n",
       " 'is',\n",
       " 'blessi',\n",
       " 'betimes',\n",
       " 'Earth',\n",
       " 'while',\n",
       " 'fo',\n",
       " 'exceedingly',\n",
       " 'fou',\n",
       " 'awoke',\n",
       " 'Peleg',\n",
       " 'fruitful',\n",
       " 'faces',\n",
       " 'Arkite',\n",
       " 'Slay',\n",
       " 'Beersheba',\n",
       " 'budded',\n",
       " 'Spirit',\n",
       " 'whomsoever',\n",
       " 'plenteous',\n",
       " 'you',\n",
       " 'For',\n",
       " 'royal',\n",
       " 'west',\n",
       " 'noon',\n",
       " 'follow',\n",
       " 'birthright',\n",
       " 'trained',\n",
       " 'Din',\n",
       " 'husband',\n",
       " 'second',\n",
       " 'roof',\n",
       " 'Magdiel',\n",
       " 'Why',\n",
       " 'Lamech',\n",
       " 'Gihon',\n",
       " 'Sheba',\n",
       " 'mocking',\n",
       " 'Shinar',\n",
       " 'observed',\n",
       " 'bade',\n",
       " 'ride',\n",
       " 'Manass',\n",
       " 'living',\n",
       " 'Buz',\n",
       " 'evening',\n",
       " 'pitched',\n",
       " 'Goshen',\n",
       " 'Ammon',\n",
       " 'weaned',\n",
       " 'En',\n",
       " 'secretly',\n",
       " 'Shalt',\n",
       " 'lower',\n",
       " 'folly',\n",
       " 'Let',\n",
       " 'pea',\n",
       " 'Edomites',\n",
       " 'words',\n",
       " 'life',\n",
       " 'wickedness',\n",
       " 'mouth',\n",
       " 'state',\n",
       " 'neither',\n",
       " 'Lay',\n",
       " 'Appoint',\n",
       " 'lambs',\n",
       " 'lodged',\n",
       " 'Pharaoh',\n",
       " 'laughed',\n",
       " 'Abidah',\n",
       " 'spi',\n",
       " 'nuts',\n",
       " 'serpent',\n",
       " 'sore',\n",
       " 'Job',\n",
       " 'frost',\n",
       " 'colts',\n",
       " 'Benam',\n",
       " 'couch',\n",
       " 'thistles',\n",
       " 'cunning',\n",
       " 'fat',\n",
       " 'Abraham',\n",
       " 'It',\n",
       " 'generation',\n",
       " 'wall',\n",
       " 'separated',\n",
       " 'curse',\n",
       " 'balm',\n",
       " 'seeth',\n",
       " 'through',\n",
       " 'feel',\n",
       " 'months',\n",
       " 'why',\n",
       " 'master',\n",
       " 'Seba',\n",
       " 'midwife',\n",
       " 'Bless',\n",
       " 'Manasseh',\n",
       " 'wa',\n",
       " 'or',\n",
       " 'weapons',\n",
       " 'w',\n",
       " 'done',\n",
       " 'Jamin',\n",
       " 'drank',\n",
       " 'bruise',\n",
       " 'me',\n",
       " 'secret',\n",
       " 'maiden',\n",
       " 'alo',\n",
       " '(',\n",
       " 'sworn',\n",
       " 'ha',\n",
       " 'hunt',\n",
       " 'youngest',\n",
       " 'strong',\n",
       " 'finding',\n",
       " 'Padanaram',\n",
       " 'Zeboiim',\n",
       " 'leaped',\n",
       " 'Isaac',\n",
       " 'force',\n",
       " 'embraced',\n",
       " 'Dinah',\n",
       " 'ward',\n",
       " 'it',\n",
       " 'fall',\n",
       " 'tempt',\n",
       " 'inn',\n",
       " 'keeper',\n",
       " 'Calneh',\n",
       " 'Tarshish',\n",
       " 'laugh',\n",
       " 'shepherd',\n",
       " 'deliver',\n",
       " 'Magog',\n",
       " 'dwell',\n",
       " 'calf',\n",
       " 'gracious',\n",
       " 'Shaul',\n",
       " 'fierce',\n",
       " 'Assyria',\n",
       " 'custom',\n",
       " 'supplanted',\n",
       " 'stole',\n",
       " 'fathers',\n",
       " 'Tubal',\n",
       " 'parcel',\n",
       " 'needs',\n",
       " 'travailed',\n",
       " 'sleep',\n",
       " 'whither',\n",
       " 'our',\n",
       " 'Gaham',\n",
       " 'Accad',\n",
       " 'because',\n",
       " 'herein',\n",
       " 'Sidon',\n",
       " 'hearth',\n",
       " 'angels',\n",
       " 'Arphaxad',\n",
       " 'formed',\n",
       " 'Rebekah',\n",
       " 'deep',\n",
       " 'fig',\n",
       " 'hindermost',\n",
       " 'created',\n",
       " 'roll',\n",
       " 'appease',\n",
       " 'verily',\n",
       " 'save',\n",
       " 'wat',\n",
       " 'break',\n",
       " 'betwixt',\n",
       " 'captain',\n",
       " 'tribute',\n",
       " 'Sodom',\n",
       " 'fugitive',\n",
       " 'straitly',\n",
       " 'mourn',\n",
       " 'thence',\n",
       " 'last',\n",
       " 'lovest',\n",
       " 'righteousness',\n",
       " 'married',\n",
       " 'This',\n",
       " 'Kirjatharba',\n",
       " 'deeds',\n",
       " 'draw',\n",
       " 'seventeen',\n",
       " 'Machpelah',\n",
       " 'Abrah',\n",
       " ...}"
      ]
     },
     "execution_count": 22,
     "metadata": {},
     "output_type": "execute_result"
    }
   ],
   "source": [
    "# By wrapping sorted() around the Python expression set(text3) [1], we obtain a sorted list of vocabulary items \n",
    "# beginning with various punctuation symbols and continuing with words starting with A. \n",
    "# All capitalized words precede lowercase words.\n",
    "set(text3)"
   ]
  },
  {
   "cell_type": "code",
   "execution_count": 23,
   "metadata": {},
   "outputs": [
    {
     "data": {
      "text/plain": [
       "2789"
      ]
     },
     "execution_count": 23,
     "metadata": {},
     "output_type": "execute_result"
    }
   ],
   "source": [
    "len(set(text3))\n"
   ]
  },
  {
   "cell_type": "code",
   "execution_count": 24,
   "metadata": {},
   "outputs": [
    {
     "data": {
      "text/plain": [
       "2789"
      ]
     },
     "execution_count": 24,
     "metadata": {},
     "output_type": "execute_result"
    }
   ],
   "source": [
    "#Unique words including punctuation marks\n",
    "len(set(text3))"
   ]
  },
  {
   "cell_type": "code",
   "execution_count": 25,
   "metadata": {},
   "outputs": [
    {
     "name": "stdout",
     "output_type": "stream",
     "text": [
      "The number of distinct words is 6.230453042623537 % of the total number of words\n"
     ]
    }
   ],
   "source": [
    "print(\"The number of distinct words is\",(len(set(text3)) / len(text3))*100,\"% of the total number of words\")"
   ]
  },
  {
   "cell_type": "code",
   "execution_count": 26,
   "metadata": {},
   "outputs": [
    {
     "data": {
      "text/plain": [
       "5"
      ]
     },
     "execution_count": 26,
     "metadata": {},
     "output_type": "execute_result"
    }
   ],
   "source": [
    "text3.count(\"smote\")"
   ]
  },
  {
   "cell_type": "code",
   "execution_count": 27,
   "metadata": {},
   "outputs": [
    {
     "name": "stdout",
     "output_type": "stream",
     "text": [
      "awaken\n",
      "173\n"
     ]
    }
   ],
   "source": [
    "print(text4[173])\n",
    "print(text4.index('awaken'))"
   ]
  },
  {
   "cell_type": "code",
   "execution_count": 28,
   "metadata": {},
   "outputs": [
    {
     "data": {
      "text/plain": [
       "['In', 'the', 'beginning']"
      ]
     },
     "execution_count": 28,
     "metadata": {},
     "output_type": "execute_result"
    }
   ],
   "source": [
    "# m:n means elements m…n-1. We can omit the first number if the slice begins at the start of the list\n",
    "# we can omit the second number if the slice goes to the end:\n",
    "sent3[:3] \n",
    "# text2[141525:]"
   ]
  },
  {
   "cell_type": "code",
   "execution_count": 29,
   "metadata": {},
   "outputs": [
    {
     "data": {
      "text/plain": [
       "['said', 'than']"
      ]
     },
     "execution_count": 29,
     "metadata": {},
     "output_type": "execute_result"
    }
   ],
   "source": [
    "saying = ['After', 'all', 'is', 'said', 'and', 'done',\n",
    "           'more', 'is', 'said', 'than', 'done']\n",
    "tokens = set(saying)\n",
    "tokens = sorted(tokens)\n",
    "tokens[-2:]"
   ]
  },
  {
   "cell_type": "code",
   "execution_count": 30,
   "metadata": {},
   "outputs": [
    {
     "name": "stdout",
     "output_type": "stream",
     "text": [
      "<FreqDist with 19317 samples and 260819 outcomes>\n"
     ]
    },
    {
     "data": {
      "text/plain": [
       "260819"
      ]
     },
     "execution_count": 30,
     "metadata": {},
     "output_type": "execute_result"
    }
   ],
   "source": [
    "fdist1 = FreqDist(text1)\n",
    "print(fdist1)\n",
    "fdist1.N()\n",
    "#fdist1.most_common(20)\n",
    "\n",
    "#fdist1.tabulate() # Tabulate the frequency distribution\n",
    "\n",
    "#fdist1.plot(cumulative=True) # Cumulative plot of the frequency distribution\n",
    "\n",
    "#fdist1.plot() # Graphical plot of the frequency distribution"
   ]
  },
  {
   "cell_type": "code",
   "execution_count": 31,
   "metadata": {},
   "outputs": [
    {
     "data": {
      "text/plain": [
       "906"
      ]
     },
     "execution_count": 31,
     "metadata": {},
     "output_type": "execute_result"
    }
   ],
   "source": [
    "fdist1['whale']"
   ]
  },
  {
   "cell_type": "code",
   "execution_count": 32,
   "metadata": {},
   "outputs": [
    {
     "data": {
      "text/plain": [
       "['CIRCUMNAVIGATION',\n",
       " 'Physiognomically',\n",
       " 'apprehensiveness',\n",
       " 'cannibalistically',\n",
       " 'characteristically',\n",
       " 'circumnavigating',\n",
       " 'circumnavigation',\n",
       " 'circumnavigations',\n",
       " 'comprehensiveness',\n",
       " 'hermaphroditical',\n",
       " 'indiscriminately',\n",
       " 'indispensableness',\n",
       " 'irresistibleness',\n",
       " 'physiognomically',\n",
       " 'preternaturalness',\n",
       " 'responsibilities',\n",
       " 'simultaneousness',\n",
       " 'subterraneousness',\n",
       " 'supernaturalness',\n",
       " 'superstitiousness',\n",
       " 'uncomfortableness',\n",
       " 'uncompromisedness',\n",
       " 'undiscriminating',\n",
       " 'uninterpenetratingly']"
      ]
     },
     "execution_count": 32,
     "metadata": {},
     "output_type": "execute_result"
    }
   ],
   "source": [
    "V = set(text1)\n",
    "long_words = [w for w in V if len(w) > 15]\n",
    "sorted(long_words)"
   ]
  },
  {
   "cell_type": "code",
   "execution_count": 33,
   "metadata": {},
   "outputs": [
    {
     "data": {
      "text/plain": [
       "['#14-19teens',\n",
       " '#talkcity_adults',\n",
       " '((((((((((',\n",
       " '........',\n",
       " 'Question',\n",
       " 'actually',\n",
       " 'anything',\n",
       " 'computer',\n",
       " 'cute.-ass',\n",
       " 'everyone',\n",
       " 'football',\n",
       " 'innocent',\n",
       " 'listening',\n",
       " 'remember',\n",
       " 'seriously',\n",
       " 'something',\n",
       " 'together',\n",
       " 'tomorrow',\n",
       " 'watching']"
      ]
     },
     "execution_count": 33,
     "metadata": {},
     "output_type": "execute_result"
    }
   ],
   "source": [
    "fdist5 = FreqDist(text5)\n",
    "sorted(w for w in set(text5) if len(w) > 7 and fdist5[w] > 7)"
   ]
  },
  {
   "cell_type": "code",
   "execution_count": 34,
   "metadata": {},
   "outputs": [],
   "source": [
    "# A collocation is a sequence of words that occur together unusually often. \n",
    "# Thus red wine is a collocation, whereas the wine is not.\n",
    "\n",
    "# To get a handle on collocations, we start off by extracting from a text a list of word pairs, also known as bigrams. \n",
    "# This is easily accomplished with the function bigrams"
   ]
  },
  {
   "cell_type": "code",
   "execution_count": 35,
   "metadata": {},
   "outputs": [
    {
     "name": "stdout",
     "output_type": "stream",
     "text": [
      "United States; fellow citizens; four years; years ago; Federal\n",
      "Government; General Government; American people; Vice President; Old\n",
      "World; Almighty God; Fellow citizens; Chief Magistrate; Chief Justice;\n",
      "God bless; every citizen; Indian tribes; public debt; one another;\n",
      "foreign nations; political parties\n",
      "would like; medium build; social drinker; quiet nights; non smoker;\n",
      "long term; age open; Would like; easy going; financially secure; fun\n",
      "times; similar interests; Age open; weekends away; poss rship; well\n",
      "presented; never married; single mum; permanent relationship; slim\n",
      "build\n"
     ]
    }
   ],
   "source": [
    "text4.collocations()\n",
    "text8.collocations()"
   ]
  },
  {
   "cell_type": "code",
   "execution_count": 36,
   "metadata": {},
   "outputs": [
    {
     "name": "stdout",
     "output_type": "stream",
     "text": [
      "<FreqDist with 19 samples and 260819 outcomes>\n"
     ]
    },
    {
     "data": {
      "text/plain": [
       "FreqDist({1: 47933,\n",
       "          2: 38513,\n",
       "          3: 50223,\n",
       "          4: 42345,\n",
       "          5: 26597,\n",
       "          6: 17111,\n",
       "          7: 14399,\n",
       "          8: 9966,\n",
       "          9: 6428,\n",
       "          10: 3528,\n",
       "          11: 1873,\n",
       "          12: 1053,\n",
       "          13: 567,\n",
       "          14: 177,\n",
       "          15: 70,\n",
       "          16: 22,\n",
       "          17: 12,\n",
       "          18: 1,\n",
       "          20: 1})"
      ]
     },
     "execution_count": 36,
     "metadata": {},
     "output_type": "execute_result"
    }
   ],
   "source": [
    "[len(w) for w in text1] #List of the lengths of words in text1\n",
    "fdist = FreqDist(len(w) for w in text1)\n",
    "print(fdist)\n",
    "fdist"
   ]
  },
  {
   "cell_type": "code",
   "execution_count": 37,
   "metadata": {},
   "outputs": [
    {
     "data": {
      "text/plain": [
       "0.19255882431878046"
      ]
     },
     "execution_count": 37,
     "metadata": {},
     "output_type": "execute_result"
    }
   ],
   "source": [
    "#fdist.most_common()\n",
    "#fdist.max()\n",
    "#fdist[3]\n",
    "fdist.freq(3) # Percentage of words with length 3 "
   ]
  },
  {
   "cell_type": "code",
   "execution_count": 38,
   "metadata": {},
   "outputs": [
    {
     "data": {
      "text/plain": [
       "['London', 'Park', 'Saffron']"
      ]
     },
     "execution_count": 38,
     "metadata": {},
     "output_type": "execute_result"
    }
   ],
   "source": [
    "#sorted(w for w in set(text1) if w.endswith('ableness'))\n",
    "\n",
    "# sorted(term for term in set(text4) if 'gnt' in term)\n",
    "\n",
    "# sorted(item for item in set(text6) if item.istitle())\n",
    "\n",
    "# sorted(item for item in set(sent7) if item.isdigit())\n",
    "\n",
    "# sorted(item for item in set(sent9) if item.isupper())\n",
    "\n",
    "sorted(item for item in set(sent9) if item.istitle())\n"
   ]
  },
  {
   "cell_type": "code",
   "execution_count": 39,
   "metadata": {},
   "outputs": [
    {
     "data": {
      "text/plain": [
       "17231"
      ]
     },
     "execution_count": 39,
     "metadata": {},
     "output_type": "execute_result"
    }
   ],
   "source": [
    "len(text1)\n",
    "len(set(text1))\n",
    "len(set(word.lower() for word in text1))"
   ]
  },
  {
   "cell_type": "code",
   "execution_count": 40,
   "metadata": {},
   "outputs": [
    {
     "data": {
      "text/plain": [
       "16948"
      ]
     },
     "execution_count": 40,
     "metadata": {},
     "output_type": "execute_result"
    }
   ],
   "source": [
    "len(set(word.lower() for word in text1 if word.isalpha())) #Converts to lower case alphabets\n",
    "#Eliminate numbers and punctuation from the vocabulary count by filtering out any non-alphabetic items"
   ]
  },
  {
   "cell_type": "markdown",
   "metadata": {},
   "source": [
    "## Normalizing and Stemming "
   ]
  },
  {
   "cell_type": "code",
   "execution_count": 41,
   "metadata": {},
   "outputs": [
    {
     "data": {
      "text/plain": [
       "['list', 'listed', 'lists', 'listing', 'listings']"
      ]
     },
     "execution_count": 41,
     "metadata": {},
     "output_type": "execute_result"
    }
   ],
   "source": [
    "input1 = \"List listed lists listing listings\"\n",
    "words1 = input1.lower().split(' ')\n",
    "words1"
   ]
  },
  {
   "cell_type": "code",
   "execution_count": 42,
   "metadata": {},
   "outputs": [
    {
     "data": {
      "text/plain": [
       "['list', 'list', 'list', 'list', 'list']"
      ]
     },
     "execution_count": 42,
     "metadata": {},
     "output_type": "execute_result"
    }
   ],
   "source": [
    "# Snowball, Lancaster, RegEx Based Stemmer\n",
    "\n",
    "porter = nltk.PorterStemmer()\n",
    "[porter.stem(t) for t in words1]"
   ]
  },
  {
   "cell_type": "markdown",
   "metadata": {},
   "source": [
    "### Lemmatization"
   ]
  },
  {
   "cell_type": "code",
   "execution_count": 43,
   "metadata": {},
   "outputs": [
    {
     "data": {
      "text/plain": [
       "['Universal',\n",
       " 'Declaration',\n",
       " 'of',\n",
       " 'Human',\n",
       " 'Rights',\n",
       " 'Preamble',\n",
       " 'Whereas',\n",
       " 'recognition',\n",
       " 'of',\n",
       " 'the',\n",
       " 'inherent',\n",
       " 'dignity',\n",
       " 'and',\n",
       " 'of',\n",
       " 'the',\n",
       " 'equal',\n",
       " 'and',\n",
       " 'inalienable',\n",
       " 'rights',\n",
       " 'of']"
      ]
     },
     "execution_count": 43,
     "metadata": {},
     "output_type": "execute_result"
    }
   ],
   "source": [
    "udhr = nltk.corpus.udhr.words('English-Latin1')\n",
    "udhr[:20]"
   ]
  },
  {
   "cell_type": "code",
   "execution_count": 44,
   "metadata": {},
   "outputs": [
    {
     "data": {
      "text/plain": [
       "['univers',\n",
       " 'declar',\n",
       " 'of',\n",
       " 'human',\n",
       " 'right',\n",
       " 'preambl',\n",
       " 'wherea',\n",
       " 'recognit',\n",
       " 'of',\n",
       " 'the',\n",
       " 'inher',\n",
       " 'digniti',\n",
       " 'and',\n",
       " 'of',\n",
       " 'the',\n",
       " 'equal',\n",
       " 'and',\n",
       " 'inalien',\n",
       " 'right',\n",
       " 'of']"
      ]
     },
     "execution_count": 44,
     "metadata": {},
     "output_type": "execute_result"
    }
   ],
   "source": [
    "[porter.stem(t) for t in udhr[:20]] # Still Lemmatization"
   ]
  },
  {
   "cell_type": "code",
   "execution_count": 45,
   "metadata": {
    "scrolled": true
   },
   "outputs": [
    {
     "data": {
      "text/plain": [
       "['Universal',\n",
       " 'Declaration',\n",
       " 'of',\n",
       " 'Human',\n",
       " 'Rights',\n",
       " 'Preamble',\n",
       " 'Whereas',\n",
       " 'recognition',\n",
       " 'of',\n",
       " 'the',\n",
       " 'inherent',\n",
       " 'dignity',\n",
       " 'and',\n",
       " 'of',\n",
       " 'the',\n",
       " 'equal',\n",
       " 'and',\n",
       " 'inalienable',\n",
       " 'right',\n",
       " 'of']"
      ]
     },
     "execution_count": 45,
     "metadata": {},
     "output_type": "execute_result"
    }
   ],
   "source": [
    "#Lemmatization less accurate but faste, vice versa for Stemming\n",
    "\n",
    "WNlemma = nltk.WordNetLemmatizer()\n",
    "[WNlemma.lemmatize(t) for t in udhr[:20]]\n",
    "\n",
    "#wn = nltk.WordNetLemmatizer()\n",
    "# print (wn.lemmatize(text))\n",
    "# print( )"
   ]
  },
  {
   "cell_type": "markdown",
   "metadata": {},
   "source": [
    "### Tokenization"
   ]
  },
  {
   "cell_type": "code",
   "execution_count": 46,
   "metadata": {},
   "outputs": [
    {
     "data": {
      "text/plain": [
       "['Children', \"shouldn't\", 'drink', 'a', 'sugary', 'drink', 'before', 'bed.']"
      ]
     },
     "execution_count": 46,
     "metadata": {},
     "output_type": "execute_result"
    }
   ],
   "source": [
    "text11 = \"Children shouldn't drink a sugary drink before bed.\"\n",
    "text11.split(' ')"
   ]
  },
  {
   "cell_type": "code",
   "execution_count": 47,
   "metadata": {},
   "outputs": [
    {
     "data": {
      "text/plain": [
       "['Children',\n",
       " 'should',\n",
       " \"n't\",\n",
       " 'drink',\n",
       " 'a',\n",
       " 'sugary',\n",
       " 'drink',\n",
       " 'before',\n",
       " 'bed',\n",
       " '.']"
      ]
     },
     "execution_count": 47,
     "metadata": {},
     "output_type": "execute_result"
    }
   ],
   "source": [
    "nltk.word_tokenize(text11)"
   ]
  },
  {
   "cell_type": "code",
   "execution_count": 48,
   "metadata": {},
   "outputs": [
    {
     "data": {
      "text/plain": [
       "4"
      ]
     },
     "execution_count": 48,
     "metadata": {},
     "output_type": "execute_result"
    }
   ],
   "source": [
    "text12 = \"This is the first sentence. A gallon of milk in the U.S. costs $2.99. Is this the third sentence? Yes, it is!\"\n",
    "sentences = nltk.sent_tokenize(text12)\n",
    "len(sentences)"
   ]
  },
  {
   "cell_type": "code",
   "execution_count": 49,
   "metadata": {
    "scrolled": true
   },
   "outputs": [
    {
     "data": {
      "text/plain": [
       "['This is the first sentence.',\n",
       " 'A gallon of milk in the U.S. costs $2.99.',\n",
       " 'Is this the third sentence?',\n",
       " 'Yes, it is!']"
      ]
     },
     "execution_count": 49,
     "metadata": {},
     "output_type": "execute_result"
    }
   ],
   "source": [
    "sentences"
   ]
  },
  {
   "cell_type": "markdown",
   "metadata": {},
   "source": [
    "### Working with Text Data in pandas using Regular Expressions (Regex)"
   ]
  },
  {
   "cell_type": "code",
   "execution_count": 57,
   "metadata": {},
   "outputs": [
    {
     "data": {
      "text/html": [
       "<div>\n",
       "<style scoped>\n",
       "    .dataframe tbody tr th:only-of-type {\n",
       "        vertical-align: middle;\n",
       "    }\n",
       "\n",
       "    .dataframe tbody tr th {\n",
       "        vertical-align: top;\n",
       "    }\n",
       "\n",
       "    .dataframe thead th {\n",
       "        text-align: right;\n",
       "    }\n",
       "</style>\n",
       "<table border=\"1\" class=\"dataframe\">\n",
       "  <thead>\n",
       "    <tr style=\"text-align: right;\">\n",
       "      <th></th>\n",
       "      <th>text</th>\n",
       "    </tr>\n",
       "  </thead>\n",
       "  <tbody>\n",
       "    <tr>\n",
       "      <th>0</th>\n",
       "      <td>Monday: The doctor's appointment is at 2:45pm.</td>\n",
       "    </tr>\n",
       "    <tr>\n",
       "      <th>1</th>\n",
       "      <td>Tuesday: The dentist's appointment is at 11:30...</td>\n",
       "    </tr>\n",
       "    <tr>\n",
       "      <th>2</th>\n",
       "      <td>Wednesday: At 7:00pm, there is a basketball game!</td>\n",
       "    </tr>\n",
       "    <tr>\n",
       "      <th>3</th>\n",
       "      <td>Thursday: Be back home by 11:15 pm at the latest.</td>\n",
       "    </tr>\n",
       "    <tr>\n",
       "      <th>4</th>\n",
       "      <td>Friday: Take the train at 08:10 am, arrive at ...</td>\n",
       "    </tr>\n",
       "  </tbody>\n",
       "</table>\n",
       "</div>"
      ],
      "text/plain": [
       "                                                text\n",
       "0     Monday: The doctor's appointment is at 2:45pm.\n",
       "1  Tuesday: The dentist's appointment is at 11:30...\n",
       "2  Wednesday: At 7:00pm, there is a basketball game!\n",
       "3  Thursday: Be back home by 11:15 pm at the latest.\n",
       "4  Friday: Take the train at 08:10 am, arrive at ..."
      ]
     },
     "execution_count": 57,
     "metadata": {},
     "output_type": "execute_result"
    }
   ],
   "source": [
    "import pandas as pd\n",
    "\n",
    "time_sentences = [\"Monday: The doctor's appointment is at 2:45pm.\", \n",
    "                  \"Tuesday: The dentist's appointment is at 11:30 am.\",\n",
    "                  \"Wednesday: At 7:00pm, there is a basketball game!\",\n",
    "                  \"Thursday: Be back home by 11:15 pm at the latest.\",\n",
    "                  \"Friday: Take the train at 08:10 am, arrive at 09:00am.\"]\n",
    "\n",
    "df = pd.DataFrame(time_sentences, columns=['text'])\n",
    "df"
   ]
  },
  {
   "cell_type": "code",
   "execution_count": 58,
   "metadata": {},
   "outputs": [
    {
     "data": {
      "text/plain": [
       "0    46\n",
       "1    50\n",
       "2    49\n",
       "3    49\n",
       "4    54\n",
       "Name: text, dtype: int64"
      ]
     },
     "execution_count": 58,
     "metadata": {},
     "output_type": "execute_result"
    }
   ],
   "source": [
    "# find the number of characters for each string in df['text']\n",
    "df['text'].str.len()"
   ]
  },
  {
   "cell_type": "code",
   "execution_count": 59,
   "metadata": {},
   "outputs": [
    {
     "data": {
      "text/plain": [
       "0     7\n",
       "1     8\n",
       "2     8\n",
       "3    10\n",
       "4    10\n",
       "Name: text, dtype: int64"
      ]
     },
     "execution_count": 59,
     "metadata": {},
     "output_type": "execute_result"
    }
   ],
   "source": [
    "# find the number of tokens for each string in df['text']\n",
    "df['text'].str.split().str.len()"
   ]
  },
  {
   "cell_type": "code",
   "execution_count": 60,
   "metadata": {},
   "outputs": [
    {
     "data": {
      "text/plain": [
       "0     True\n",
       "1     True\n",
       "2    False\n",
       "3    False\n",
       "4    False\n",
       "Name: text, dtype: bool"
      ]
     },
     "execution_count": 60,
     "metadata": {},
     "output_type": "execute_result"
    }
   ],
   "source": [
    "# find which entries contain the word 'appointment'\n",
    "df['text'].str.contains('appointment')"
   ]
  },
  {
   "cell_type": "code",
   "execution_count": 61,
   "metadata": {},
   "outputs": [
    {
     "data": {
      "text/plain": [
       "0    3\n",
       "1    4\n",
       "2    3\n",
       "3    4\n",
       "4    8\n",
       "Name: text, dtype: int64"
      ]
     },
     "execution_count": 61,
     "metadata": {},
     "output_type": "execute_result"
    }
   ],
   "source": [
    "# find how many times a digit occurs in each string\n",
    "df['text'].str.count(r'\\d')"
   ]
  },
  {
   "cell_type": "code",
   "execution_count": 62,
   "metadata": {},
   "outputs": [
    {
     "data": {
      "text/plain": [
       "0    [onday, he, doctor, s, appointment, is, at, 2,...\n",
       "1    [uesday, he, dentist, s, appointment, is, at, ...\n",
       "2    [ednesday, t, 7, 00pm, there, is, a, basketbal...\n",
       "3    [hursday, e, back, home, by, 11, 15, pm, at, t...\n",
       "4    [riday, ake, the, train, at, 08, 10, am, arriv...\n",
       "Name: text, dtype: object"
      ]
     },
     "execution_count": 62,
     "metadata": {},
     "output_type": "execute_result"
    }
   ],
   "source": [
    "# find all occurances of the digits\n",
    "#df['text'].str.findall(r'\\d')\n",
    "#df['text'].str.findall(\"[a-z]+\")\n",
    "df['text'].str.findall(\"[a-z0-9]+\")"
   ]
  },
  {
   "cell_type": "code",
   "execution_count": 63,
   "metadata": {},
   "outputs": [
    {
     "data": {
      "text/plain": [
       "0               [(2, 45)]\n",
       "1              [(11, 30)]\n",
       "2               [(7, 00)]\n",
       "3              [(11, 15)]\n",
       "4    [(08, 10), (09, 00)]\n",
       "Name: text, dtype: object"
      ]
     },
     "execution_count": 63,
     "metadata": {},
     "output_type": "execute_result"
    }
   ],
   "source": [
    "# group and find the hours and minutes\n",
    "df['text'].str.findall(r'(\\d?\\d):(\\d\\d)')"
   ]
  },
  {
   "cell_type": "code",
   "execution_count": 64,
   "metadata": {},
   "outputs": [
    {
     "data": {
      "text/plain": [
       "0          ???: The doctor's appointment is at 2:45pm.\n",
       "1       ???: The dentist's appointment is at 11:30 am.\n",
       "2          ???: At 7:00pm, there is a basketball game!\n",
       "3         ???: Be back home by 11:15 pm at the latest.\n",
       "4    ???: Take the train at 08:10 am, arrive at 09:...\n",
       "Name: text, dtype: object"
      ]
     },
     "execution_count": 64,
     "metadata": {},
     "output_type": "execute_result"
    }
   ],
   "source": [
    "# replace weekdays with '???'\n",
    "df['text'].str.replace(r'\\w+day\\b', '???')"
   ]
  },
  {
   "cell_type": "code",
   "execution_count": 65,
   "metadata": {},
   "outputs": [
    {
     "data": {
      "text/plain": [
       "0          Mon: The doctor's appointment is at 2:45pm.\n",
       "1       Tue: The dentist's appointment is at 11:30 am.\n",
       "2          Wed: At 7:00pm, there is a basketball game!\n",
       "3         Thu: Be back home by 11:15 pm at the latest.\n",
       "4    Fri: Take the train at 08:10 am, arrive at 09:...\n",
       "Name: text, dtype: object"
      ]
     },
     "execution_count": 65,
     "metadata": {},
     "output_type": "execute_result"
    }
   ],
   "source": [
    "# replace weekdays with 3 letter abbrevations\n",
    "df['text'].str.replace(r'(\\w+day\\b)', lambda x: x.groups()[0][:3])"
   ]
  },
  {
   "cell_type": "code",
   "execution_count": 66,
   "metadata": {},
   "outputs": [
    {
     "name": "stderr",
     "output_type": "stream",
     "text": [
      "C:\\Users\\Mayur\\Anaconda3\\lib\\site-packages\\ipykernel_launcher.py:2: FutureWarning: currently extract(expand=None) means expand=False (return Index/Series/DataFrame) but in a future version of pandas this will be changed to expand=True (return DataFrame)\n",
      "  \n"
     ]
    },
    {
     "data": {
      "text/html": [
       "<div>\n",
       "<style scoped>\n",
       "    .dataframe tbody tr th:only-of-type {\n",
       "        vertical-align: middle;\n",
       "    }\n",
       "\n",
       "    .dataframe tbody tr th {\n",
       "        vertical-align: top;\n",
       "    }\n",
       "\n",
       "    .dataframe thead th {\n",
       "        text-align: right;\n",
       "    }\n",
       "</style>\n",
       "<table border=\"1\" class=\"dataframe\">\n",
       "  <thead>\n",
       "    <tr style=\"text-align: right;\">\n",
       "      <th></th>\n",
       "      <th>0</th>\n",
       "      <th>1</th>\n",
       "    </tr>\n",
       "  </thead>\n",
       "  <tbody>\n",
       "    <tr>\n",
       "      <th>0</th>\n",
       "      <td>2</td>\n",
       "      <td>45</td>\n",
       "    </tr>\n",
       "    <tr>\n",
       "      <th>1</th>\n",
       "      <td>11</td>\n",
       "      <td>30</td>\n",
       "    </tr>\n",
       "    <tr>\n",
       "      <th>2</th>\n",
       "      <td>7</td>\n",
       "      <td>00</td>\n",
       "    </tr>\n",
       "    <tr>\n",
       "      <th>3</th>\n",
       "      <td>11</td>\n",
       "      <td>15</td>\n",
       "    </tr>\n",
       "    <tr>\n",
       "      <th>4</th>\n",
       "      <td>08</td>\n",
       "      <td>10</td>\n",
       "    </tr>\n",
       "  </tbody>\n",
       "</table>\n",
       "</div>"
      ],
      "text/plain": [
       "    0   1\n",
       "0   2  45\n",
       "1  11  30\n",
       "2   7  00\n",
       "3  11  15\n",
       "4  08  10"
      ]
     },
     "execution_count": 66,
     "metadata": {},
     "output_type": "execute_result"
    }
   ],
   "source": [
    "# create new columns from first match of extracted groups\n",
    "df['text'].str.extract(r'(\\d?\\d):(\\d\\d)')"
   ]
  },
  {
   "cell_type": "code",
   "execution_count": 68,
   "metadata": {},
   "outputs": [
    {
     "data": {
      "text/html": [
       "<div>\n",
       "<style scoped>\n",
       "    .dataframe tbody tr th:only-of-type {\n",
       "        vertical-align: middle;\n",
       "    }\n",
       "\n",
       "    .dataframe tbody tr th {\n",
       "        vertical-align: top;\n",
       "    }\n",
       "\n",
       "    .dataframe thead th {\n",
       "        text-align: right;\n",
       "    }\n",
       "</style>\n",
       "<table border=\"1\" class=\"dataframe\">\n",
       "  <thead>\n",
       "    <tr style=\"text-align: right;\">\n",
       "      <th></th>\n",
       "      <th></th>\n",
       "      <th>0</th>\n",
       "      <th>1</th>\n",
       "      <th>2</th>\n",
       "      <th>3</th>\n",
       "    </tr>\n",
       "    <tr>\n",
       "      <th></th>\n",
       "      <th>match</th>\n",
       "      <th></th>\n",
       "      <th></th>\n",
       "      <th></th>\n",
       "      <th></th>\n",
       "    </tr>\n",
       "  </thead>\n",
       "  <tbody>\n",
       "    <tr>\n",
       "      <th>0</th>\n",
       "      <th>0</th>\n",
       "      <td>2:45pm</td>\n",
       "      <td>2</td>\n",
       "      <td>45</td>\n",
       "      <td>pm</td>\n",
       "    </tr>\n",
       "    <tr>\n",
       "      <th>1</th>\n",
       "      <th>0</th>\n",
       "      <td>11:30 am</td>\n",
       "      <td>11</td>\n",
       "      <td>30</td>\n",
       "      <td>am</td>\n",
       "    </tr>\n",
       "    <tr>\n",
       "      <th>2</th>\n",
       "      <th>0</th>\n",
       "      <td>7:00pm</td>\n",
       "      <td>7</td>\n",
       "      <td>00</td>\n",
       "      <td>pm</td>\n",
       "    </tr>\n",
       "    <tr>\n",
       "      <th>3</th>\n",
       "      <th>0</th>\n",
       "      <td>11:15 pm</td>\n",
       "      <td>11</td>\n",
       "      <td>15</td>\n",
       "      <td>pm</td>\n",
       "    </tr>\n",
       "    <tr>\n",
       "      <th rowspan=\"2\" valign=\"top\">4</th>\n",
       "      <th>0</th>\n",
       "      <td>08:10 am</td>\n",
       "      <td>08</td>\n",
       "      <td>10</td>\n",
       "      <td>am</td>\n",
       "    </tr>\n",
       "    <tr>\n",
       "      <th>1</th>\n",
       "      <td>09:00am</td>\n",
       "      <td>09</td>\n",
       "      <td>00</td>\n",
       "      <td>am</td>\n",
       "    </tr>\n",
       "  </tbody>\n",
       "</table>\n",
       "</div>"
      ],
      "text/plain": [
       "                0   1   2   3\n",
       "  match                      \n",
       "0 0        2:45pm   2  45  pm\n",
       "1 0      11:30 am  11  30  am\n",
       "2 0        7:00pm   7  00  pm\n",
       "3 0      11:15 pm  11  15  pm\n",
       "4 0      08:10 am  08  10  am\n",
       "  1       09:00am  09  00  am"
      ]
     },
     "execution_count": 68,
     "metadata": {},
     "output_type": "execute_result"
    }
   ],
   "source": [
    "#extract the entire time, the hours, the minutes, and the period\n",
    "df['text'].str.extractall(r'((\\d?\\d):(\\d\\d) ?([ap]m))')"
   ]
  },
  {
   "cell_type": "code",
   "execution_count": 69,
   "metadata": {},
   "outputs": [
    {
     "data": {
      "text/html": [
       "<div>\n",
       "<style scoped>\n",
       "    .dataframe tbody tr th:only-of-type {\n",
       "        vertical-align: middle;\n",
       "    }\n",
       "\n",
       "    .dataframe tbody tr th {\n",
       "        vertical-align: top;\n",
       "    }\n",
       "\n",
       "    .dataframe thead th {\n",
       "        text-align: right;\n",
       "    }\n",
       "</style>\n",
       "<table border=\"1\" class=\"dataframe\">\n",
       "  <thead>\n",
       "    <tr style=\"text-align: right;\">\n",
       "      <th></th>\n",
       "      <th></th>\n",
       "      <th>time</th>\n",
       "      <th>hour</th>\n",
       "      <th>minute</th>\n",
       "      <th>period</th>\n",
       "    </tr>\n",
       "    <tr>\n",
       "      <th></th>\n",
       "      <th>match</th>\n",
       "      <th></th>\n",
       "      <th></th>\n",
       "      <th></th>\n",
       "      <th></th>\n",
       "    </tr>\n",
       "  </thead>\n",
       "  <tbody>\n",
       "    <tr>\n",
       "      <th>0</th>\n",
       "      <th>0</th>\n",
       "      <td>2:45pm</td>\n",
       "      <td>2</td>\n",
       "      <td>45</td>\n",
       "      <td>pm</td>\n",
       "    </tr>\n",
       "    <tr>\n",
       "      <th>1</th>\n",
       "      <th>0</th>\n",
       "      <td>11:30 am</td>\n",
       "      <td>11</td>\n",
       "      <td>30</td>\n",
       "      <td>am</td>\n",
       "    </tr>\n",
       "    <tr>\n",
       "      <th>2</th>\n",
       "      <th>0</th>\n",
       "      <td>7:00pm</td>\n",
       "      <td>7</td>\n",
       "      <td>00</td>\n",
       "      <td>pm</td>\n",
       "    </tr>\n",
       "    <tr>\n",
       "      <th>3</th>\n",
       "      <th>0</th>\n",
       "      <td>11:15 pm</td>\n",
       "      <td>11</td>\n",
       "      <td>15</td>\n",
       "      <td>pm</td>\n",
       "    </tr>\n",
       "    <tr>\n",
       "      <th rowspan=\"2\" valign=\"top\">4</th>\n",
       "      <th>0</th>\n",
       "      <td>08:10 am</td>\n",
       "      <td>08</td>\n",
       "      <td>10</td>\n",
       "      <td>am</td>\n",
       "    </tr>\n",
       "    <tr>\n",
       "      <th>1</th>\n",
       "      <td>09:00am</td>\n",
       "      <td>09</td>\n",
       "      <td>00</td>\n",
       "      <td>am</td>\n",
       "    </tr>\n",
       "  </tbody>\n",
       "</table>\n",
       "</div>"
      ],
      "text/plain": [
       "             time hour minute period\n",
       "  match                             \n",
       "0 0        2:45pm    2     45     pm\n",
       "1 0      11:30 am   11     30     am\n",
       "2 0        7:00pm    7     00     pm\n",
       "3 0      11:15 pm   11     15     pm\n",
       "4 0      08:10 am   08     10     am\n",
       "  1       09:00am   09     00     am"
      ]
     },
     "execution_count": 69,
     "metadata": {},
     "output_type": "execute_result"
    }
   ],
   "source": [
    "# extract the entire time, the hours, the minutes, and the period with group names\n",
    "df['text'].str.extractall(r'(?P<time>(?P<hour>\\d?\\d):(?P<minute>\\d\\d) ?(?P<period>[ap]m))')"
   ]
  },
  {
   "cell_type": "code",
   "execution_count": null,
   "metadata": {},
   "outputs": [],
   "source": []
  }
 ],
 "metadata": {
  "kernelspec": {
   "display_name": "Python 3",
   "language": "python",
   "name": "python3"
  },
  "language_info": {
   "codemirror_mode": {
    "name": "ipython",
    "version": 3
   },
   "file_extension": ".py",
   "mimetype": "text/x-python",
   "name": "python",
   "nbconvert_exporter": "python",
   "pygments_lexer": "ipython3",
   "version": "3.6.4"
  }
 },
 "nbformat": 4,
 "nbformat_minor": 2
}
